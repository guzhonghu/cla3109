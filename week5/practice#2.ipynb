{
 "cells": [
  {
   "cell_type": "code",
   "execution_count": null,
   "id": "9f9e595d",
   "metadata": {},
   "outputs": [],
   "source": [
    "import pandas as pd\n",
    "import numpy as np"
   ]
  },
  {
   "cell_type": "code",
   "execution_count": null,
   "id": "21437c34",
   "metadata": {},
   "outputs": [],
   "source": [
    "injong_sillok = pd.read_csv('injong_sillok.csv')"
   ]
  },
  {
   "cell_type": "markdown",
   "id": "3597ed5d",
   "metadata": {},
   "source": [
    "### 가장 많은 기사가 쓰여진 주제 찾기"
   ]
  },
  {
   "cell_type": "code",
   "execution_count": null,
   "id": "2da286e0",
   "metadata": {},
   "outputs": [],
   "source": [
    "injong_sillok['category'] = injong_sillok['category'].apply(eval)\n",
    "injong_sillok_exp = injong_sillok.explode('category').reset_index()"
   ]
  },
  {
   "cell_type": "code",
   "execution_count": null,
   "id": "e76a2083",
   "metadata": {
    "scrolled": true
   },
   "outputs": [],
   "source": [
    "pd.set_option('display.max_rows', None)\n",
    "injong_sillok_exp.groupby('category').index.count().sort_values(ascending=False)"
   ]
  },
  {
   "cell_type": "markdown",
   "id": "df129833",
   "metadata": {},
   "source": [
    "### 기사 길이 순 분포표 "
   ]
  },
  {
   "cell_type": "code",
   "execution_count": null,
   "id": "ad1f9edf",
   "metadata": {},
   "outputs": [],
   "source": [
    "injong_sillok['content_length'] = injong_sillok['content'].apply(len)"
   ]
  },
  {
   "cell_type": "code",
   "execution_count": null,
   "id": "e004c6fa",
   "metadata": {},
   "outputs": [],
   "source": [
    "injong_sillok.groupby(\n",
    "    pd.cut(injong_sillok['content_length'],[0, 10, 20, 50, 100, 1000, injong_sillok['content_length'].max()+1])\n",
    ")['url'].count()"
   ]
  }
 ],
 "metadata": {
  "kernelspec": {
   "display_name": "Python 3 (ipykernel)",
   "language": "python",
   "name": "python3"
  },
  "language_info": {
   "codemirror_mode": {
    "name": "ipython",
    "version": 3
   },
   "file_extension": ".py",
   "mimetype": "text/x-python",
   "name": "python",
   "nbconvert_exporter": "python",
   "pygments_lexer": "ipython3",
   "version": "3.7.11"
  }
 },
 "nbformat": 4,
 "nbformat_minor": 5
}
