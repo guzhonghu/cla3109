{
 "cells": [
  {
   "cell_type": "markdown",
   "id": "d540dda8",
   "metadata": {},
   "source": [
    "##### Q1. (UNIX) 디렉토리 내에 있는 파일들의 목록을 내림차순으로 출력하는 명령어를 적으세요. ( ! 기호 후 명령어 입력. Windows 명령어도 인정함. )"
   ]
  },
  {
   "cell_type": "code",
   "execution_count": null,
   "id": "0555ad2f",
   "metadata": {},
   "outputs": [],
   "source": [
    "# ls | sort -r 또는 dir /o-n (Windows)"
   ]
  },
  {
   "cell_type": "markdown",
   "id": "39c579b3",
   "metadata": {},
   "source": [
    "##### 3주차 강의안 10페이지 참조"
   ]
  },
  {
   "cell_type": "markdown",
   "id": "d7d387d6",
   "metadata": {},
   "source": [
    "##### Q2. (UNIX) UNIX에서는 모든 것이 \\_\\_이것\\_\\_이다. 이것에 들어갈 말을 영어로 적으세요. "
   ]
  },
  {
   "cell_type": "code",
   "execution_count": null,
   "id": "98fb52fb",
   "metadata": {},
   "outputs": [],
   "source": [
    "# File"
   ]
  },
  {
   "cell_type": "markdown",
   "id": "f52370aa",
   "metadata": {},
   "source": [
    "##### 2주차 강의안 17페이지 참조 <br> Ref) Tree 구조"
   ]
  },
  {
   "cell_type": "markdown",
   "id": "a7b66b8a",
   "metadata": {},
   "source": [
    "##### Q3. 다음 리스트에서 짝수만 남기면서, 892 보다 큰 수는 출력되지 않는 리스트를 만드세요."
   ]
  },
  {
   "cell_type": "code",
   "execution_count": null,
   "id": "4d27e3db",
   "metadata": {},
   "outputs": [],
   "source": [
    "numbers = [    \n",
    "    386, 462, 47, 418, 907, 344, 236, 375, 823, 566, 597, 978, 328, 615, 953, 345, \n",
    "    399, 162, 758, 219, 918, 237, 412, 566, 826, 248, 866, 950, 626, 949, 687, 217, \n",
    "    815, 67, 104, 58, 512, 24, 892, 894, 767, 553, 81, 379, 843, 831, 445, 742, 717, \n",
    "    958,743, 527\n",
    "    ]\n",
    "\n",
    "numbers = [n for n in numbers if (n%2==0) and (n<=892)]\n",
    "numbers"
   ]
  },
  {
   "cell_type": "markdown",
   "id": "c4efa335",
   "metadata": {},
   "source": [
    "##### Q4. 다음 2개의 변수 a, b의 값을 한 줄로 바꾸는 코드를 완성하세요."
   ]
  },
  {
   "cell_type": "code",
   "execution_count": null,
   "id": "2ede8382",
   "metadata": {},
   "outputs": [],
   "source": [
    "young_man = \"신하균\"\n",
    "old_man = \"변희봉\"\n",
    "old_man, young_man = young_man, old_man\n",
    "print(young_man, old_man)"
   ]
  },
  {
   "cell_type": "markdown",
   "id": "001ed125",
   "metadata": {},
   "source": [
    "##### 변수 swapping"
   ]
  },
  {
   "cell_type": "markdown",
   "id": "780c7a67",
   "metadata": {},
   "source": [
    "##### Q5. 한국어의 목적격 조사 '을'과 '를'은 앞에 나오는 단어의 받침에 따라 결정된다. 예를 들어, \"나는 오늘 수업을 들었다.\"에서 \"수업\" 뒤에 붙는 목적격 조사 \"을\"은 앞 음절에 받침이 있기 때문에 \"을\"을 사용한 것이다. 만일, 앞 음절에 받침이 없었다면 \"를\"을 사용했을 것이다. 입력으로 넣은 단어의 목적격 조사로 '을'과 '를' 중 어떤 것이 적절할 지 판단하는 함수를 작성하세요."
   ]
  },
  {
   "cell_type": "code",
   "execution_count": null,
   "id": "3c0d0c9d",
   "metadata": {},
   "outputs": [],
   "source": [
    "# 참고\n",
    "# 초성 리스트. 00 ~ 18\n",
    "CHOSUNG_LIST = ['ㄱ', 'ㄲ', 'ㄴ', 'ㄷ', 'ㄸ', 'ㄹ', 'ㅁ', 'ㅂ', 'ㅃ', 'ㅅ', 'ㅆ', 'ㅇ', 'ㅈ', 'ㅉ', 'ㅊ', 'ㅋ', 'ㅌ', 'ㅍ', 'ㅎ']\n",
    "# 중성 리스트. 00 ~ 20\n",
    "JUNGSUNG_LIST = ['ㅏ', 'ㅐ', 'ㅑ', 'ㅒ', 'ㅓ', 'ㅔ', 'ㅕ', 'ㅖ', 'ㅗ', 'ㅘ', 'ㅙ', 'ㅚ', 'ㅛ', 'ㅜ', 'ㅝ', 'ㅞ', 'ㅟ', 'ㅠ', 'ㅡ', 'ㅢ', 'ㅣ']\n",
    "# 종성 리스트. 00 ~ 27 + 1(1개 없음)\n",
    "JONGSUNG_LIST = [' ', 'ㄱ', 'ㄲ', 'ㄳ', 'ㄴ', 'ㄵ', 'ㄶ', 'ㄷ', 'ㄹ', 'ㄺ', 'ㄻ', 'ㄼ', 'ㄽ', 'ㄾ', 'ㄿ', 'ㅀ', 'ㅁ', 'ㅂ', 'ㅄ', 'ㅅ', 'ㅆ', 'ㅇ', 'ㅈ', 'ㅊ', 'ㅋ', 'ㅌ', 'ㅍ', 'ㅎ']\n",
    "\n",
    "def decide_postposition(word):\n",
    "    last_syllable = word[-1]\n",
    "    gap = ord('개') - ord('가')\n",
    "    if ((ord(last_syllable)-ord('가')) % gap) == 0:\n",
    "        return word+\"를\"\n",
    "    else:\n",
    "        return word+\"을\"\n",
    "decide_postposition(\"여수 밤바다\") # 실행 결과 \"여수 밤바다를\"이 출력되어야 함."
   ]
  },
  {
   "cell_type": "markdown",
   "id": "794c0d3e",
   "metadata": {},
   "source": [
    "##### Q6. 다음 문자열을 역순으로 출력하는 한 줄짜리 코드를 작성하세요."
   ]
  },
  {
   "cell_type": "code",
   "execution_count": null,
   "id": "82143555",
   "metadata": {},
   "outputs": [],
   "source": [
    "sentence = \"로꾸꺼 로꾸꺼 로꾸꺼 말해말\"\n",
    "sentence = sentence[::-1]\n",
    "sentence"
   ]
  },
  {
   "cell_type": "markdown",
   "id": "f7f1c98e",
   "metadata": {},
   "source": [
    "##### Q7. 주어진 dictionary가 모두 같은 값을 갖고 있는지 확인하는 함수를 작성하세요."
   ]
  },
  {
   "cell_type": "code",
   "execution_count": null,
   "id": "4caa1469",
   "metadata": {},
   "outputs": [],
   "source": [
    "def check_homogeneity(dictionary):\n",
    "    return (True if len(set(dictionary.values())) == 1 else False)\n",
    "print(check_homogeneity({\"정조\":\"왕\", \"단종\":\"왕\", \"광해군\":\"왕\"})) # return True\n",
    "print(check_homogeneity({\"걸스데이\":4, \"씨스타\":4, \"블랭핑크\":4, \"소녀시대\":9})) # return False"
   ]
  },
  {
   "cell_type": "markdown",
   "id": "020c70dd",
   "metadata": {},
   "source": [
    "##### 삼항연산자"
   ]
  },
  {
   "cell_type": "markdown",
   "id": "dd08def5",
   "metadata": {},
   "source": [
    "##### Q8. 다음 두 리스트 s1, s2를 Pandas의 Series로 만들고 두 Series를 더해보세요."
   ]
  },
  {
   "cell_type": "code",
   "execution_count": null,
   "id": "aefc2d5a",
   "metadata": {},
   "outputs": [],
   "source": [
    "import pandas as pd\n",
    "s1 = [2, 4, 6, 8, 10]\n",
    "s2 = [1, 3, 5, 7, 9]\n",
    "s1 = pd.Series(s1)\n",
    "s2 = pd.Series(s2)\n",
    "s1+s2"
   ]
  },
  {
   "cell_type": "markdown",
   "id": "e2561558",
   "metadata": {},
   "source": [
    "##### Q9. 다음 DataFrame 에서, name(이름)과 turnout(득표율)만 선택(selection)하는 코드를 작성하세요."
   ]
  },
  {
   "cell_type": "code",
   "execution_count": null,
   "id": "d7d4d64f",
   "metadata": {
    "scrolled": true
   },
   "outputs": [],
   "source": [
    "import pandas as pd\n",
    "import numpy as np\n",
    "president_data  = {'name': ['이승만', '윤보선', '박정희', '최규하', '전두환', '노태우',\n",
    "                       '김영삼', '김대중', '노무현', '이명박', '박근혜', '문재인'],\n",
    "        'turnout': [91.8, 79.1, 46.6, 96.3, 99.4, 36.6,\n",
    "                    42, 40.3, 48.9, 48.7, 51.6,41.1],\n",
    "        'jail': ['no', 'no', 'no', 'no', 'yes', 'yes',\n",
    "                'no', 'no', 'no','yes','yes',np.nan]}\n",
    "labels = ['가', '나', '다', '라', '마', '바', '사', '아', '자', '차','카','타']\n",
    "presidents = pd.DataFrame(president_data, index=labels )\n",
    "\n",
    "presidents[['name','turnout']]"
   ]
  },
  {
   "cell_type": "markdown",
   "id": "f39b55d7",
   "metadata": {},
   "source": [
    "##### Q10. Q9 에서 만든 DataFrame에 각 대통령의 재임 기간을 조사하여 'period'라는 column을 만들고, 'period'의 내림차순으로 DataFrame을 정렬하세요."
   ]
  },
  {
   "cell_type": "code",
   "execution_count": null,
   "id": "57ff82a5",
   "metadata": {},
   "outputs": [],
   "source": [
    "presidents['period'] = [4273, 588, 5793, 255, 2733, 1827, 1826, 1825, 1826, 1827, 1474, 1780]\n",
    "presidents.sort_values('period')"
   ]
  },
  {
   "cell_type": "markdown",
   "id": "015621c3",
   "metadata": {},
   "source": [
    "##### [https://ko.wikipedia.org/wiki/대한민국의_대통령_목록](https://ko.wikipedia.org/wiki/%EB%8C%80%ED%95%9C%EB%AF%BC%EA%B5%AD%EC%9D%98_%EB%8C%80%ED%86%B5%EB%A0%B9_%EB%AA%A9%EB%A1%9D)\n",
    "```이승만: 4273일(11년 8개월 11일)\n",
    "윤보선: 588일(1년 7개월 10일)\n",
    "박정희: 5793일(15년 10개월 9일)\n",
    "최규하: 255일(8개월 10일)\n",
    "전두환: 2733일(7년 5개월 23일)\n",
    "노태우: 1827일(5년)\n",
    "김영삼: 1826일(5년)\n",
    "김대중: 1825일(5년)\n",
    "노무현: 1826일(5년)\n",
    "이명박: 1827일(5년)\n",
    "박근혜: 1474일(4년 13일)```"
   ]
  },
  {
   "cell_type": "markdown",
   "id": "4f059e30",
   "metadata": {},
   "source": [
    "### Q1. 다음 조선왕조실록 사이트에서 재위기간이 가장 짧은 인종의 기사를 크롤링하여 1) URL 주소, 2) 기사 제목, 3) 한글 내용을 포함하는 코드를 작성 하세요. [조선왕조실록 바로가기](http://sillok.history.go.kr/main/main.do) <br><br> 예상되는 output은 다음과 같습니다.\n",
    "```[{\"url\": \"http://sillok.history.go.kr/id/kla_10101001_001\", \"title\":\"삭전을 지내고 상식을 올리다\", \"content\": \"상(上)이 삭전(朔奠)을 지내고...\" }, {\"url\":\"...\", \"title\":\"...\", \"content\":\"...\"}, ...]```"
   ]
  },
  {
   "cell_type": "code",
   "execution_count": null,
   "id": "69ffb4bf",
   "metadata": {
    "scrolled": true
   },
   "outputs": [],
   "source": [
    "from selenium import webdriver\n",
    "import requests\n",
    "from lxml import html\n",
    "from selenium.webdriver.common.by import By\n",
    "chrome_options = webdriver.ChromeOptions()\n",
    "# 브라우저에 임의로 User-agent 옵션을 넣어 Python 코드로 접속함을 숨김\n",
    "chrome_options.add_argument('--user-agent=\"Mozilla/5.0 (Macintosh; Intel Mac OS X 10_13_4) AppleWebKit/537.36 (KHTML, like Gecko) Chrome/66.0.3359.139 Safari/537.36\"')\n",
    "driver = webdriver.Chrome(chrome_options=chrome_options)\n"
   ]
  },
  {
   "cell_type": "code",
   "execution_count": null,
   "id": "4deee2de",
   "metadata": {},
   "outputs": [],
   "source": [
    "driver.get(\"http://sillok.history.go.kr/main/main.do\")\n",
    "driver.find_element(By.XPATH, '//*[@id=\"m_cont_list\"]/div[1]/ul[2]/li[4]/a').click()\n",
    "# driver.find_element(By.LINK_TEXT, '12대 인종(1545년~)').click()"
   ]
  },
  {
   "cell_type": "code",
   "execution_count": null,
   "id": "906f0788",
   "metadata": {
    "scrolled": true
   },
   "outputs": [],
   "source": [
    "months = driver.find_elements(By.XPATH, '//*[@id=\"cont_area\"]/div/div[2]/ul[2]/li/ul/li/a')\n",
    "all_urls = []\n",
    "for month in months:\n",
    "    month.click()\n",
    "    month_urls = [url.get_attribute(\"href\") for url in driver.find_elements(By.XPATH,'//*[@id=\"cont_area\"]/div[1]/div[3]/div/dl/dd/ul/li/a')]\n",
    "    month_urls = [url.strip(\"javascript:searchView('\").strip(\"');\") for url in urls]\n",
    "    month_urls = ['http://sillok.history.go.kr/id/'+url for url in urls]\n",
    "    all_urls.append(month_urls)\n",
    "    driver.back();"
   ]
  },
  {
   "cell_type": "code",
   "execution_count": null,
   "id": "16c277a0",
   "metadata": {},
   "outputs": [],
   "source": [
    "all_urls = []\n",
    "for month in range(1,9):\n",
    "    driver.get(\"http://sillok.history.go.kr/main/main.do\")\n",
    "    driver.find_element(By.XPATH, '//*[@id=\"m_cont_list\"]/div[1]/ul[2]/li[4]/a').click()\n",
    "    months = driver.find_elements(By.XPATH, '//*[@id=\"cont_area\"]/div/div[2]/ul[2]/li/ul/li['+str(month)+']/a')\n",
    "    for month in months:\n",
    "        month.click()\n",
    "        month_urls = [url.get_attribute(\"href\") for url in driver.find_elements(By.XPATH,'//*[@id=\"cont_area\"]/div[1]/div[3]/div/dl/dd/ul/li/a')]\n",
    "        month_urls = [url.strip(\"javascript:searchView('\").strip(\"');\") for url in month_urls]\n",
    "        month_urls = ['http://sillok.history.go.kr/id/'+url for url in month_urls]\n",
    "        all_urls.extend(month_urls)\n",
    "    "
   ]
  },
  {
   "cell_type": "code",
   "execution_count": null,
   "id": "89432a1f",
   "metadata": {},
   "outputs": [],
   "source": [
    "all_articles = []\n",
    "for url in all_urls:\n",
    "    article_page = html.fromstring(requests.get(url).text)\n",
    "    title = \"\".join(article_page.xpath('//*[@id=\"cont_area\"]/div[1]/div[1]/h3/text()'))\n",
    "    content = \"\".join(article_page.xpath('//*[@id=\"cont_area\"]/div[1]/div[3]/div[1]/div/div/p//text()'))\n",
    "    category = (''.join(article_page.xpath('(//span[@class=\"ins_source_tit\"]/following-sibling::div)[1]/text()'))).split(\" / \")\n",
    "    all_articles.append({'url':url, 'title':title,'content':content,'category':category})\n"
   ]
  },
  {
   "cell_type": "code",
   "execution_count": null,
   "id": "6816965c",
   "metadata": {},
   "outputs": [],
   "source": [
    "all_articles"
   ]
  },
  {
   "cell_type": "markdown",
   "id": "cd2d8de7",
   "metadata": {},
   "source": [
    "### Q2. Q1에서 만든 csv파일을 불러와서 DataFrame을 생성하고, content 칼럼에서 괄호와 한문을 모두 제거하여 content 칼럼에 다시 저장하세요.\n",
    "hint: 괄호와 괄호 안 문자를 제거하는 정규표현식 ```\"\\(.*\\)\" ```"
   ]
  },
  {
   "cell_type": "code",
   "execution_count": null,
   "id": "ab8d680a",
   "metadata": {},
   "outputs": [],
   "source": [
    "injong_sillok = pd.DataFrame(all_articles)\n",
    "injong_sillok['content'] = injong_sillok['content'].str.replace(r'\\r|\\n|\\t|】|【|', '')\n",
    "injong_sillok['content'] = injong_sillok['content'].str.replace(r'\\([^)]*\\)', '')\n",
    "injong_sillok['content'] = injong_sillok['content'].str.replace(r'\\d+\\)', '')\n",
    "injong_sillok['content']"
   ]
  },
  {
   "cell_type": "markdown",
   "id": "19556415",
   "metadata": {},
   "source": [
    "### Q3. Q2에서 만든 list of dictionaries을 pandas DataFrame으로 바꾸어 csv 파일로 저장하는 코드를 작성하세요."
   ]
  },
  {
   "cell_type": "code",
   "execution_count": null,
   "id": "1ce50191",
   "metadata": {},
   "outputs": [],
   "source": [
    "injong_sillok.to_csv('injong_sillok.csv',index=False)"
   ]
  }
 ],
 "metadata": {
  "kernelspec": {
   "display_name": "Python 3 (ipykernel)",
   "language": "python",
   "name": "python3"
  },
  "language_info": {
   "codemirror_mode": {
    "name": "ipython",
    "version": 3
   },
   "file_extension": ".py",
   "mimetype": "text/x-python",
   "name": "python",
   "nbconvert_exporter": "python",
   "pygments_lexer": "ipython3",
   "version": "3.7.11"
  }
 },
 "nbformat": 4,
 "nbformat_minor": 5
}
