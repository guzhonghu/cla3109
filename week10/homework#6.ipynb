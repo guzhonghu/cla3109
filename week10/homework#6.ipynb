{
 "cells": [
  {
   "cell_type": "markdown",
   "id": "2b9e4889",
   "metadata": {},
   "source": [
    "# 이름: \n",
    "# 학번: \n",
    "# 학과: "
   ]
  },
  {
   "cell_type": "code",
   "execution_count": null,
   "id": "e8396beb",
   "metadata": {},
   "outputs": [],
   "source": [
    "import seaborn as sns\n",
    "import matplotlib.pyplot as plt\n",
    "penguins = sns.load_dataset('penguins')"
   ]
  },
  {
   "cell_type": "markdown",
   "id": "275b0511",
   "metadata": {},
   "source": [
    "## Q1. penguins 데이터 프레임에서 각 종(species) 별로 flipper_length_mm의 histogram을 그리는 코드를 작성하세요. 단, matplotlib 라이브러리만 이용하세요."
   ]
  },
  {
   "cell_type": "code",
   "execution_count": null,
   "id": "fb428cf6",
   "metadata": {},
   "outputs": [],
   "source": [
    "fig, ax = plt.subplots()\n",
    "# your code here."
   ]
  },
  {
   "cell_type": "markdown",
   "id": "f2365a79",
   "metadata": {},
   "source": [
    "## Q2. penguins 데이터 프레임에서 펭귄의 종(species)을 X축으로 하고 body_mass_g의 평균을 보여주는 bar plot을 그리는 코드를 작성하세요. 이 때, 성별(sex)에 따라 bar가 stacked되도록 하세요. 단, matplotlib 라이브러리만 이용하세요."
   ]
  },
  {
   "cell_type": "code",
   "execution_count": null,
   "id": "e3025636",
   "metadata": {},
   "outputs": [],
   "source": [
    "fig, ax = plt.subplots()\n",
    "# your code here."
   ]
  },
  {
   "cell_type": "markdown",
   "id": "8f73e0cc",
   "metadata": {},
   "source": [
    "## Q3. penguins 데이터 프레임에서 펭귄의 bill_depth_mm과 body_mass_g의 관계를 보여주는 scatter plot을 그리는 코드를 작성하세요. 단, matplotlib 라이브러리만 이용하세요."
   ]
  },
  {
   "cell_type": "code",
   "execution_count": null,
   "id": "6f2d78e9",
   "metadata": {},
   "outputs": [],
   "source": [
    "fig, ax = plt.subplots()\n",
    "# your code here."
   ]
  },
  {
   "cell_type": "markdown",
   "id": "6e348319",
   "metadata": {},
   "source": [
    "## penguins 데이터 프레임에서 펭귄의 종(species)에 따른 body_mass_g를 보여주는 swarmplot과 boxplot이 동시에 그려지는 코드를 작성하세요. 단, seaborn library만 사용하세요."
   ]
  },
  {
   "cell_type": "code",
   "execution_count": null,
   "id": "390f99ec",
   "metadata": {},
   "outputs": [],
   "source": [
    "fig, ax = plt.subplots()\n",
    "# your code here."
   ]
  }
 ],
 "metadata": {
  "kernelspec": {
   "display_name": "Python 3 (ipykernel)",
   "language": "python",
   "name": "python3"
  },
  "language_info": {
   "codemirror_mode": {
    "name": "ipython",
    "version": 3
   },
   "file_extension": ".py",
   "mimetype": "text/x-python",
   "name": "python",
   "nbconvert_exporter": "python",
   "pygments_lexer": "ipython3",
   "version": "3.7.11"
  }
 },
 "nbformat": 4,
 "nbformat_minor": 5
}
