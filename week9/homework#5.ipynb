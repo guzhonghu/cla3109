{
 "cells": [
  {
   "cell_type": "markdown",
   "id": "18bf9fcd",
   "metadata": {},
   "source": [
    "# 이름: \n",
    "# 학번: \n",
    "# 학과: "
   ]
  },
  {
   "cell_type": "markdown",
   "id": "0f9fe1c2",
   "metadata": {},
   "source": [
    "## Q1. 파이썬 내장 함수만 이용하여 평균을 구하는 함수를 작성하세요."
   ]
  },
  {
   "cell_type": "code",
   "execution_count": null,
   "id": "7bf3430a",
   "metadata": {},
   "outputs": [],
   "source": [
    "def mean(data):\n",
    "    if isinstance(data, list):\n",
    "        # your code here\n",
    "    else:\n",
    "        raise TypeError(\"list만 입력 가능합니다.\")\n",
    "    \n",
    "mean([1,2,3,4,5]) # return 3.0\n",
    "# example2 = mean(5) # raise TypeError"
   ]
  },
  {
   "cell_type": "markdown",
   "id": "2a0cfc39",
   "metadata": {},
   "source": [
    "## Q2. 파이썬 내장 함수만 이용하여 모집단의 분산을 구하는 함수를 작성하세요. (단, Q1에서 작성한 함수 사용 가능함.)"
   ]
  },
  {
   "cell_type": "code",
   "execution_count": null,
   "id": "4b46dc49",
   "metadata": {},
   "outputs": [],
   "source": [
    "def variance(data):\n",
    "    if isinstance(data, list):\n",
    "        # your code here\n",
    "    else:    \n",
    "        raise TypeError(\"list만 입력 가능합니다.\")\n",
    "variance([1,2,3,4,5]) # return 2.0"
   ]
  },
  {
   "cell_type": "markdown",
   "id": "c2779a6a",
   "metadata": {},
   "source": [
    "## Q3. 파이썬 내장 함수만 이용하여 <u>모집단의 표준편차</u>를 구하는 함수를 작성하세요. (단, Q1, Q2에서 작성한 함수 사용 가능함.)"
   ]
  },
  {
   "cell_type": "code",
   "execution_count": null,
   "id": "a176023a",
   "metadata": {},
   "outputs": [],
   "source": [
    "def std(data):\n",
    "    if isinstance(data, list):\n",
    "        # your code here\n",
    "    else:    \n",
    "        raise TypeError(\"list만 입력 가능합니다.\")\n",
    "std([1,2,3,4,5]) # return 1.4142135623730951"
   ]
  },
  {
   "cell_type": "markdown",
   "id": "94f54c28",
   "metadata": {},
   "source": [
    "## Q3. 파이썬 내장 함수만 이용하여 <u>표본의 표준편차</u>를 구하는 함수를 작성하세요. (단, Q1, Q2, Q3에서 작성한 함수 사용 가능함.) 표본의 표준편차를 구하는 방법은 아래 공식을 이용하세요."
   ]
  },
  {
   "cell_type": "markdown",
   "id": "020564e3",
   "metadata": {},
   "source": [
    "## $s_x = \\sqrt{\\sum{(x_i - \\bar{x})^2} \\over n-1}$"
   ]
  },
  {
   "cell_type": "code",
   "execution_count": null,
   "id": "4b7687e7",
   "metadata": {},
   "outputs": [],
   "source": [
    "def sample_std(data):\n",
    "    if isinstance(data, list):\n",
    "        # your code here\n",
    "    else:    \n",
    "        raise TypeError(\"list만 입력 가능합니다.\")\n",
    "sample_std([1,2,3,4,5]) # return 1.5811388300841898"
   ]
  },
  {
   "cell_type": "markdown",
   "id": "3b529d36",
   "metadata": {},
   "source": [
    "## Q5. 파이썬 내장 함수만 이용하여 입력한 리스트의 각 요소들의 Z-Score를 구하는 함수를 작성하세요. (단, Q1, Q2, Q3, Q4에서 작성한 함수 사용 가능함. 단, 표준편차는 표본 표준편차를 사용함.)"
   ]
  },
  {
   "cell_type": "code",
   "execution_count": null,
   "id": "7d4de3d0",
   "metadata": {},
   "outputs": [],
   "source": [
    "def z_score(data):\n",
    "    if isinstance(data, list):\n",
    "        # your code here\n",
    "    else:    \n",
    "        raise TypeError(\"list만 입력 가능합니다.\")\n",
    "z_score([1,2,3,4,5]) # return [-1.2649110640673518, -0.6324555320336759, 0.0, 0.6324555320336759, 1.2649110640673518]"
   ]
  },
  {
   "cell_type": "markdown",
   "id": "0141930d",
   "metadata": {},
   "source": [
    "## Q5. 파이썬 내장 함수만 이용하여 입력한 리스트의 신뢰도 95%의 신뢰구간을 구하는 함수를 작성하세요. (단, Q1, Q2, Q3, Q4, Q5에서 작성한 함수 사용 가능함. 단, 표준정규분포에서 신뢰도 95%의 z-score는 1.96임. 단, 표준편차는 표본 표준편차를 사용함.)"
   ]
  },
  {
   "cell_type": "code",
   "execution_count": null,
   "id": "d48c9137",
   "metadata": {},
   "outputs": [],
   "source": [
    "def ci(data):\n",
    "    if isinstance(data, list):\n",
    "        # your code here\n",
    "    else:\n",
    "        raise TypeError(\"list만 입력 가능합니다.\")\n",
    "ci([1,2,3,4,5]) # return [1.6140707088743669, 4.385929291125633]"
   ]
  },
  {
   "cell_type": "markdown",
   "id": "2bb80b79",
   "metadata": {},
   "source": [
    "## Q6 ~ Q10. 가상의 나라인 \"율도국\"은 인구가 10,000명이다. 이 나라 국민들은 17개 지역(location)에 흩어져 살고 있으며 성비(gender)는 잦은 전쟁으로 남자보다 여자가 더 많다. 전쟁으로 인한 사회 불안정 탓인지 월 소득(salary) 불균형도 매우 커서 사회적 불만이 큰 상황이다. 율도국에서는 지난 4월 총선이 있었고 Red당과 Blue당이 총선에서 격돌하였다. df는 총선 결과를 나타내는 데이터 프레임이다. 다음 코드를 실행하고 다음 문제를 계속 진행하세요."
   ]
  },
  {
   "cell_type": "code",
   "execution_count": null,
   "id": "9b3a0981",
   "metadata": {},
   "outputs": [],
   "source": [
    "import numpy as np\n",
    "import pandas as pd\n",
    "location = ['서울','경기','인천','강원','충남','충북','대전','전북','전남','광주','경북','대구','부산','울산','경남','제주','세종']\n",
    "gender = ['M','F','E']\n",
    "party = ['Red', 'Blue']\n",
    "df = pd.DataFrame()                                                                                                                                                                     \n",
    "N = 10000                                                                                                                                                                                \n",
    "df[\"location\"] = np.random.choice(location, size=N, p=[0.1,0.1,0.1]+[0.05]*14)                                                                                                                                     \n",
    "df[\"age\"] = [int(i) if i>=0 else int(-i) for i in np.random.normal(35, 10, N)]                                                                                                                                               \n",
    "df[\"gender\"] = np.random.choice(gender, p = [0.4, 0.59, 0.01], size=N)\n",
    "df['salary'] = np.random.permutation([(int(i)-1)*50 for i in np.exp(1.5*np.linspace(0, 2, N))])\n",
    "df['party'] = df.apply(lambda x: np.random.choice(party, p=[0.1, 0.9]) if x['location']=='대전' else np.random.choice(party), axis=1)\n",
    "df"
   ]
  },
  {
   "cell_type": "markdown",
   "id": "a2c6faf9",
   "metadata": {},
   "source": [
    "## Q6-1. (중심 극한 정리) 율도국 국민(df) 중에서 표본 크기가 50인 표본을 추출하는 것을 1,000번 반복한 후 각 표본의 'salary'의 표본평균을 측정한 결과의 리스트를 출력하는 함수를 작성하세요. "
   ]
  },
  {
   "cell_type": "code",
   "execution_count": null,
   "id": "8c67ccec",
   "metadata": {},
   "outputs": [],
   "source": [
    "def sampling50(df):\n",
    "    # your code here\n",
    "sampled50 = sampling50(df)"
   ]
  },
  {
   "cell_type": "markdown",
   "id": "ee5f2518",
   "metadata": {},
   "source": [
    "## Q6-2. (중심 극한 정리) 율도국 국민(df) 중에서 표본 크기가 500인 표본을 추출하는 것을 1,000번 반복한 후 각 표본의 'salary'의 표본평균을 측정한 결과의 리스트를 출력하는 함수를 작성하세요. "
   ]
  },
  {
   "cell_type": "code",
   "execution_count": null,
   "id": "21957003",
   "metadata": {},
   "outputs": [],
   "source": [
    "def sampling500(df):\n",
    "    # your code here\n",
    "sampled500 = sampling500(df)"
   ]
  },
  {
   "cell_type": "markdown",
   "id": "cbb9a558",
   "metadata": {},
   "source": [
    "### Q6에서 작성한 함수의 출력 결과를 인자로 넣어 아래 코드에서 실행하세요."
   ]
  },
  {
   "cell_type": "code",
   "execution_count": null,
   "id": "aeb421fe",
   "metadata": {},
   "outputs": [],
   "source": [
    "import seaborn as sns\n",
    "sns.histplot(sampled50, kde=True)\n",
    "plt.axvline(np.mean(sampled50))\n",
    "sns.histplot(sampled500, kde=True, color='r')\n",
    "plt.axvline(np.mean(sampled50), color = 'r')"
   ]
  },
  {
   "cell_type": "markdown",
   "id": "d0c24496",
   "metadata": {},
   "source": [
    "## Q7. (통계적 가설 검정) 사회과학에 관심이 많은 재민이는 율도국의 성별에 따라 월 평균 소득에 차이가 있을 것이라고 생각하고 있다. 아래 코드에 재민이가 이 연구를 수행하기 위해 세운 귀무가설과 대립가설을 입력하세요."
   ]
  },
  {
   "cell_type": "code",
   "execution_count": null,
   "id": "12649b60",
   "metadata": {},
   "outputs": [],
   "source": [
    "print(\"귀무가설(H0): \")\n",
    "print(\"대립가설(Ha): \")"
   ]
  },
  {
   "cell_type": "markdown",
   "id": "7e4d8c43",
   "metadata": {},
   "source": [
    "## Q8. 재민이는 율도국의 평균 나이가 35세 라는 귀무가설이 맞다는 전제 하에 크기가 100인 표본을 추출하였는데, 이 때 표본평균이 50세로 나타났다. 이러한 통계치가 관측될 확률(p-value)을 구하는 코드를 작성하세요."
   ]
  },
  {
   "cell_type": "code",
   "execution_count": null,
   "id": "6febf006",
   "metadata": {},
   "outputs": [],
   "source": [
    "# your code here."
   ]
  },
  {
   "cell_type": "markdown",
   "id": "04478c39",
   "metadata": {},
   "source": [
    "## Q9. 재민이는 Q8에서 수행한 결과를 학회에서 발표하였다. 그러나 율도국 정부에서 인구주택총조사를 진행하여 율도국 국민들의 나이를 조사한 결과 재민이가 추출한 표본은 극단적인 값임이 확인되었다. 이 때, 재민이가 범한 오류는 \"1종 오류\"와 \"2종 오류\" 중 무엇인지 출력하세요."
   ]
  },
  {
   "cell_type": "code",
   "execution_count": null,
   "id": "9f55f7bf",
   "metadata": {},
   "outputs": [],
   "source": [
    "print(\"X종 오류\")"
   ]
  },
  {
   "cell_type": "markdown",
   "id": "b2613649",
   "metadata": {},
   "source": [
    "## Q10. 재민이는 율도국 국민들이 나이가 들수록 더 많은 소득을 얻을 것이라고 생각하고 있다. 재민이의 주장이 맞으려면 age와 salary를 단순 선형 회귀 분석하였을 때, slope가 양수여야 하며, p-value는 0.05보다 작아야 한다. 이러한 가설을 확인 할 수 있도록 선형 회귀 분석을 하고 이를 summary하는 테이블을 출력하는 코드를 작성하세요."
   ]
  },
  {
   "cell_type": "code",
   "execution_count": null,
   "id": "e4d2b2dd",
   "metadata": {},
   "outputs": [],
   "source": [
    "import statsmodels.api as sm\n",
    "# your code here."
   ]
  },
  {
   "cell_type": "markdown",
   "id": "7f2325b0",
   "metadata": {},
   "source": [
    "## Q11. 재민이는 대전, 서울, 대구, 광주 지역의 Red당의 지지율에 의미 있는 차이가 있다고 생각했다. 이를 확인하기 위해 재민이는 여론조사를 실시하여 크기 1,000개짜리 표본을 추출하였다. 재민이의 가설이 맞는지 ANOVA를 실시하여 확인하는 코드를 작성하세요."
   ]
  },
  {
   "cell_type": "code",
   "execution_count": null,
   "id": "af4e4f23",
   "metadata": {},
   "outputs": [],
   "source": [
    "# your code here."
   ]
  }
 ],
 "metadata": {
  "kernelspec": {
   "display_name": "Python 3 (ipykernel)",
   "language": "python",
   "name": "python3"
  },
  "language_info": {
   "codemirror_mode": {
    "name": "ipython",
    "version": 3
   },
   "file_extension": ".py",
   "mimetype": "text/x-python",
   "name": "python",
   "nbconvert_exporter": "python",
   "pygments_lexer": "ipython3",
   "version": "3.7.11"
  }
 },
 "nbformat": 4,
 "nbformat_minor": 5
}
