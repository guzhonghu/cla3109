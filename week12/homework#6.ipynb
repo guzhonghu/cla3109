{
 "cells": [
  {
   "cell_type": "markdown",
   "id": "430f57e3",
   "metadata": {},
   "source": [
    "### Gephi를 이용하여 network를 시각화하여 PDF 파일로 제출하세요. 단, 아래 조건을 만족할 것.\n",
    " - 데이터는 어떤 데이터이든 상관 없음.\n",
    " - node의 수는 50개 이상일 것\n",
    " - undirected/directed 무관\n",
    " - node의 크기가 eigenvector centrality에 비례할 것\n",
    " - network의 diameter를 텍스트로 삽입하여 기입할 것\n",
    " - Gephi의 statistics 기능을 활용하여 degree distribution report 역시 PDF로 제출할 것"
   ]
  }
 ],
 "metadata": {
  "kernelspec": {
   "display_name": "Python 3 (ipykernel)",
   "language": "python",
   "name": "python3"
  },
  "language_info": {
   "codemirror_mode": {
    "name": "ipython",
    "version": 3
   },
   "file_extension": ".py",
   "mimetype": "text/x-python",
   "name": "python",
   "nbconvert_exporter": "python",
   "pygments_lexer": "ipython3",
   "version": "3.7.11"
  }
 },
 "nbformat": 4,
 "nbformat_minor": 5
}
