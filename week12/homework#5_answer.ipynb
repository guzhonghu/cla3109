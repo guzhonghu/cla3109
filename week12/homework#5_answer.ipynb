{
 "cells": [
  {
   "cell_type": "markdown",
   "id": "18bf9fcd",
   "metadata": {},
   "source": [
    "# 이름: \n",
    "# 학번: \n",
    "# 학과: "
   ]
  },
  {
   "cell_type": "markdown",
   "id": "0f9fe1c2",
   "metadata": {},
   "source": [
    "## Q1. 파이썬 내장 함수만 이용하여 평균을 구하는 함수를 작성하세요."
   ]
  },
  {
   "cell_type": "code",
   "execution_count": 1,
   "id": "7bf3430a",
   "metadata": {},
   "outputs": [
    {
     "data": {
      "text/plain": "3.0"
     },
     "execution_count": 1,
     "metadata": {},
     "output_type": "execute_result"
    }
   ],
   "source": [
    "def mean(data):\n",
    "    if isinstance(data, list):\n",
    "        return sum(data)/len(data)\n",
    "    else:\n",
    "        raise TypeError(\"list만 입력 가능합니다.\")\n",
    "    \n",
    "mean([1,2,3,4,5]) # return 3.0\n",
    "# example2 = mean(5) # raise TypeError\n"
   ]
  },
  {
   "cell_type": "markdown",
   "id": "2a0cfc39",
   "metadata": {},
   "source": [
    "## Q2. 파이썬 내장 함수만 이용하여 모집단의 분산을 구하는 함수를 작성하세요. (단, Q1에서 작성한 함수 사용 가능함.)"
   ]
  },
  {
   "cell_type": "code",
   "execution_count": 2,
   "id": "4b46dc49",
   "metadata": {},
   "outputs": [
    {
     "data": {
      "text/plain": "2.0"
     },
     "execution_count": 2,
     "metadata": {},
     "output_type": "execute_result"
    }
   ],
   "source": [
    "def variance(data):\n",
    "    if isinstance(data, list):\n",
    "        m = mean(data) \n",
    "        return sum([(m-i)**2 for i in data])/len(data)\n",
    "    else:    \n",
    "        raise TypeError(\"list만 입력 가능합니다.\")\n",
    "variance([1,2,3,4,5]) # return 2.0"
   ]
  },
  {
   "cell_type": "markdown",
   "id": "c2779a6a",
   "metadata": {},
   "source": [
    "## Q3. 파이썬 내장 함수만 이용하여 <u>모집단의 표준편차</u>를 구하는 함수를 작성하세요. (단, Q1, Q2에서 작성한 함수 사용 가능함.)"
   ]
  },
  {
   "cell_type": "code",
   "execution_count": 3,
   "id": "a176023a",
   "metadata": {},
   "outputs": [
    {
     "data": {
      "text/plain": "1.4142135623730951"
     },
     "execution_count": 3,
     "metadata": {},
     "output_type": "execute_result"
    }
   ],
   "source": [
    "def std(data):\n",
    "    if isinstance(data, list):\n",
    "        return variance(data) **0.5\n",
    "    else:    \n",
    "        raise TypeError(\"list만 입력 가능합니다.\")\n",
    "std([1,2,3,4,5]) # return 1.4142135623730951"
   ]
  },
  {
   "cell_type": "markdown",
   "id": "f861eebc",
   "metadata": {},
   "source": [
    "## Q3. 파이썬 내장 함수만 이용하여 <u>표본의 표준편차</u>를 구하는 함수를 작성하세요. (단, Q1, Q2, Q3에서 작성한 함수 사용 가능함.) 표본의 표준편차를 구하는 방법은 아래 공식을 이용하세요."
   ]
  },
  {
   "cell_type": "markdown",
   "id": "0e029975",
   "metadata": {},
   "source": [
    "## $s_x = \\sqrt{\\sum{(x_i - \\bar{x})^2} \\over n-1}$"
   ]
  },
  {
   "cell_type": "code",
   "execution_count": 4,
   "id": "029615b9",
   "metadata": {},
   "outputs": [
    {
     "data": {
      "text/plain": "1.5811388300841898"
     },
     "execution_count": 4,
     "metadata": {},
     "output_type": "execute_result"
    }
   ],
   "source": [
    "def sample_std(data):\n",
    "    if isinstance(data, list):\n",
    "        m = mean(data)\n",
    "        return (sum([(i-m)**2 for i in data])/(len(data)-1))**0.5\n",
    "    else:    \n",
    "        raise TypeError(\"list만 입력 가능합니다.\")\n",
    "sample_std([1,2,3,4,5]) # return 1.5811388300841898"
   ]
  },
  {
   "cell_type": "markdown",
   "id": "3b529d36",
   "metadata": {},
   "source": [
    "## Q5. 파이썬 내장 함수만 이용하여 입력한 리스트의 각 요소들의 Z-Score를 구하는 함수를 작성하세요. (단, Q1, Q2, Q3, Q4에서 작성한 함수 사용 가능함. 단, 표준편차는 표본 표준편차를 사용함.)"
   ]
  },
  {
   "cell_type": "code",
   "execution_count": 5,
   "id": "7d4de3d0",
   "metadata": {},
   "outputs": [
    {
     "data": {
      "text/plain": "[-1.2649110640673518,\n -0.6324555320336759,\n 0.0,\n 0.6324555320336759,\n 1.2649110640673518]"
     },
     "execution_count": 5,
     "metadata": {},
     "output_type": "execute_result"
    }
   ],
   "source": [
    "def z_score(data):\n",
    "    if isinstance(data, list):\n",
    "        return [(i-mean(data))/sample_std(data) for i in data]\n",
    "    else:    \n",
    "        raise TypeError(\"list만 입력 가능합니다.\")\n",
    "z_score([1,2,3,4,5]) # return [-1.2649110640673518, -0.6324555320336759, 0.0, 0.6324555320336759, 1.2649110640673518]"
   ]
  },
  {
   "cell_type": "markdown",
   "id": "0141930d",
   "metadata": {},
   "source": [
    "## Q5. 파이썬 내장 함수만 이용하여 입력한 리스트의 신뢰도 95%의 신뢰구간을 구하는 함수를 작성하세요. (단, Q1, Q2, Q3, Q4, Q5에서 작성한 함수 사용 가능함. 단, 표준정규분포에서 신뢰도 95%의 z-score는 1.96임. 단, 표준편차는 표본 표준편차를 사용함.)"
   ]
  },
  {
   "cell_type": "code",
   "execution_count": 10,
   "id": "d48c9137",
   "metadata": {},
   "outputs": [
    {
     "data": {
      "text/plain": [
       "[1.6140707088743669, 4.385929291125633]"
      ]
     },
     "execution_count": 10,
     "metadata": {},
     "output_type": "execute_result"
    }
   ],
   "source": [
    "def ci(data):\n",
    "    if isinstance(data, list):\n",
    "        upper = mean(data) + (1.96 * (sample_std(data) / len(data)**0.5))\n",
    "        lower = mean(data) - (1.96 * (sample_std(data) / len(data)**0.5))\n",
    "        return [lower, upper]\n",
    "    else:\n",
    "        raise TypeError(\"list만 입력 가능합니다.\")\n",
    "ci([1,2,3,4,5]) # return [1.6140707088743669, 4.385929291125633]"
   ]
  },
  {
   "cell_type": "markdown",
   "id": "9706d790",
   "metadata": {},
   "source": [
    "## Q6 ~ Q10. 가상의 나라인 \"율도국\"은 인구가 10,000명이다. 이 나라 국민들은 17개 지역(location)에 흩어져 살고 있으며 성비(gender)는 잦은 전쟁으로 남자보다 여자가 더 많다. 전쟁으로 인한 사회 불안정 탓인지 월 소득(salary) 불균형도 매우 커서 사회적 불만이 큰 상황이다. 율도국에서는 지난 4월 총선이 있었고 Red당과 Blue당이 총선에서 격돌하였다. df는 총선 결과를 나타내는 데이터 프레임이다. 다음 코드를 실행하고 다음 문제를 계속 진행하세요."
   ]
  },
  {
   "cell_type": "code",
   "execution_count": 27,
   "id": "9ff732a9",
   "metadata": {},
   "outputs": [
    {
     "data": {
      "text/plain": "     location  age gender  salary party\n0          부산   44      M     250  Blue\n1          세종   26      F      50   Red\n2          충북   31      F      50   Red\n3          경북   45      M     100   Red\n4          경남   31      F     600   Red\n...       ...  ...    ...     ...   ...\n9995       충북   38      M     100   Red\n9996       광주   34      M     100  Blue\n9997       울산   27      F     200   Red\n9998       전남   17      F      50  Blue\n9999       제주   42      M     450  Blue\n\n[10000 rows x 5 columns]",
      "text/html": "<div>\n<style scoped>\n    .dataframe tbody tr th:only-of-type {\n        vertical-align: middle;\n    }\n\n    .dataframe tbody tr th {\n        vertical-align: top;\n    }\n\n    .dataframe thead th {\n        text-align: right;\n    }\n</style>\n<table border=\"1\" class=\"dataframe\">\n  <thead>\n    <tr style=\"text-align: right;\">\n      <th></th>\n      <th>location</th>\n      <th>age</th>\n      <th>gender</th>\n      <th>salary</th>\n      <th>party</th>\n    </tr>\n  </thead>\n  <tbody>\n    <tr>\n      <th>0</th>\n      <td>부산</td>\n      <td>44</td>\n      <td>M</td>\n      <td>250</td>\n      <td>Blue</td>\n    </tr>\n    <tr>\n      <th>1</th>\n      <td>세종</td>\n      <td>26</td>\n      <td>F</td>\n      <td>50</td>\n      <td>Red</td>\n    </tr>\n    <tr>\n      <th>2</th>\n      <td>충북</td>\n      <td>31</td>\n      <td>F</td>\n      <td>50</td>\n      <td>Red</td>\n    </tr>\n    <tr>\n      <th>3</th>\n      <td>경북</td>\n      <td>45</td>\n      <td>M</td>\n      <td>100</td>\n      <td>Red</td>\n    </tr>\n    <tr>\n      <th>4</th>\n      <td>경남</td>\n      <td>31</td>\n      <td>F</td>\n      <td>600</td>\n      <td>Red</td>\n    </tr>\n    <tr>\n      <th>...</th>\n      <td>...</td>\n      <td>...</td>\n      <td>...</td>\n      <td>...</td>\n      <td>...</td>\n    </tr>\n    <tr>\n      <th>9995</th>\n      <td>충북</td>\n      <td>38</td>\n      <td>M</td>\n      <td>100</td>\n      <td>Red</td>\n    </tr>\n    <tr>\n      <th>9996</th>\n      <td>광주</td>\n      <td>34</td>\n      <td>M</td>\n      <td>100</td>\n      <td>Blue</td>\n    </tr>\n    <tr>\n      <th>9997</th>\n      <td>울산</td>\n      <td>27</td>\n      <td>F</td>\n      <td>200</td>\n      <td>Red</td>\n    </tr>\n    <tr>\n      <th>9998</th>\n      <td>전남</td>\n      <td>17</td>\n      <td>F</td>\n      <td>50</td>\n      <td>Blue</td>\n    </tr>\n    <tr>\n      <th>9999</th>\n      <td>제주</td>\n      <td>42</td>\n      <td>M</td>\n      <td>450</td>\n      <td>Blue</td>\n    </tr>\n  </tbody>\n</table>\n<p>10000 rows × 5 columns</p>\n</div>"
     },
     "execution_count": 27,
     "metadata": {},
     "output_type": "execute_result"
    }
   ],
   "source": [
    "import numpy as np\n",
    "import pandas as pd\n",
    "location = ['서울','경기','인천','강원','충남','충북','대전','전북','전남','광주','경북','대구','부산','울산','경남','제주','세종']\n",
    "gender = ['M','F','E']\n",
    "party = ['Red', 'Blue']\n",
    "df = pd.DataFrame()                                                                                                                                                                     \n",
    "N = 10000                                                                                                                                                                                \n",
    "df[\"location\"] = np.random.choice(location, size=N, p=[0.1,0.1,0.1]+[0.05]*14)                                                                                                                                     \n",
    "df[\"age\"] = [int(i) if i>=0 else int(-i) for i in np.random.normal(35, 10, N)]                                                                                                                                               \n",
    "df[\"gender\"] = np.random.choice(gender, p = [0.4, 0.59, 0.01], size=N)\n",
    "df['salary'] = np.random.permutation([(int(i)-1)*50 for i in np.exp(1.5*np.linspace(0, 2, N))])\n",
    "df['party'] = df.apply(lambda x: np.random.choice(party, p=[0.1, 0.9]) if x['location']=='대전' else np.random.choice(party), axis=1)\n",
    "df"
   ]
  },
  {
   "cell_type": "markdown",
   "id": "2fea2d85",
   "metadata": {},
   "source": [
    "## Q6-1. (중심 극한 정리) 율도국 국민(df) 중에서 표본 크기가 50인 표본을 추출하는 것을 1,000번 반복한 후 각 표본의 'salary'의 표본평균을 측정한 결과의 리스트를 출력하는 함수를 작성하세요. "
   ]
  },
  {
   "cell_type": "code",
   "execution_count": 2,
   "id": "afb6c12a",
   "metadata": {},
   "outputs": [],
   "source": [
    "def sampling50(df):\n",
    "    result = []\n",
    "    for i in range(1000):\n",
    "        result.append(df.sample(50)['salary'].mean())\n",
    "    return result\n",
    "sampled50 = sampling50(df)"
   ]
  },
  {
   "cell_type": "markdown",
   "id": "d33fbf20",
   "metadata": {},
   "source": [
    "## Q6-2. (중심 극한 정리) 율도국 국민(df) 중에서 표본 크기가 500인 표본을 추출하는 것을 1,000번 반복한 후 각 표본의 'salary'의 표본평균을 측정한 결과의 리스트를 출력하는 함수를 작성하세요. "
   ]
  },
  {
   "cell_type": "code",
   "execution_count": 3,
   "id": "3b827868",
   "metadata": {},
   "outputs": [],
   "source": [
    "def sampling500(df):\n",
    "    result = []\n",
    "    for i in range(1000):\n",
    "        result.append(df.sample(500)['salary'].mean())\n",
    "    return result\n",
    "sampled500 = sampling500(df)"
   ]
  },
  {
   "cell_type": "markdown",
   "id": "50dbcafb",
   "metadata": {},
   "source": [
    "### Q6에서 작성한 함수의 출력 결과를 인자로 넣어 아래 코드에서 실행하세요."
   ]
  },
  {
   "cell_type": "code",
   "execution_count": 4,
   "id": "c604efe3",
   "metadata": {},
   "outputs": [
    {
     "data": {
      "text/plain": "<matplotlib.lines.Line2D at 0x7f87334d56d0>"
     },
     "execution_count": 4,
     "metadata": {},
     "output_type": "execute_result"
    },
    {
     "data": {
      "text/plain": "<Figure size 432x288 with 1 Axes>",
      "image/png": "[encoded data removed]"
     },
     "metadata": {
      "needs_background": "light"
     },
     "output_type": "display_data"
    }
   ],
   "source": [
    "import seaborn as sns\n",
    "import matplotlib.pyplot as plt\n",
    "sns.histplot(sampled50, kde=True)\n",
    "plt.axvline(np.mean(sampled50))\n",
    "sns.histplot(sampled500, kde=True, color='r')\n",
    "plt.axvline(np.mean(sampled50), color = 'r')"
   ]
  },
  {
   "cell_type": "markdown",
   "id": "d2edff46",
   "metadata": {},
   "source": [
    "## Q7. (통계적 가설 검정) 사회과학에 관심이 많은 재민이는 율도국의 성별에 따라 월 평균 소득에 차이가 있을 것이라고 생각하고 있다. 아래 코드에 재민이가 이 연구를 수행하기 위해 세운 귀무가설과 대립가설을 입력하세요."
   ]
  },
  {
   "cell_type": "code",
   "execution_count": 5,
   "id": "efb84302",
   "metadata": {},
   "outputs": [
    {
     "name": "stdout",
     "output_type": "stream",
     "text": [
      "귀무가설(H0): 율도국은 성별에 따라 월 평균 소득에 차이가 없다.\n",
      "대립가설(Ha): 율도국은 성별에 따라 월 평균 소득에 차이가 있다.\n"
     ]
    }
   ],
   "source": [
    "print(\"귀무가설(H0): 율도국은 성별에 따라 월 평균 소득에 차이가 없다.\")\n",
    "print(\"대립가설(Ha): 율도국은 성별에 따라 월 평균 소득에 차이가 있다.\")"
   ]
  },
  {
   "cell_type": "markdown",
   "id": "2097b677",
   "metadata": {},
   "source": [
    "## Q8. 재민이는 율도국의 평균 나이가 35세 라는 귀무가설이 맞다는 전제 하에 크기가 100인 표본을 추출하였는데, 이 때 표본평균이 50세로 나타났다. 이러한 통계치가 관측될 확률(p-value)를 구하는 코드를 작성하세요."
   ]
  },
  {
   "cell_type": "code",
   "execution_count": 17,
   "id": "d212bd23",
   "metadata": {},
   "outputs": [
    {
     "data": {
      "text/plain": "1.446877134503575e-51"
     },
     "execution_count": 17,
     "metadata": {},
     "output_type": "execute_result"
    }
   ],
   "source": [
    "import scipy\n",
    "z_score = (50 - 35) / (df['age'].std()/100**0.5)\n",
    "p_value =  scipy.stats.norm.sf(z_score)\n",
    "p_value"
   ]
  },
  {
   "cell_type": "markdown",
   "id": "89a3da7c",
   "metadata": {},
   "source": [
    "## Q9. 재민이는 Q8에서 수행한 결과를 학회에서 발표하였다. 그러나 율도국 정부에서 인구주택총조사를 진행하여 율도국 국민들의 나이를 조사한 결과 재민이가 추출한 표본은 극단적인 값임이 확인되었다. 이 때, 재민이가 범한 오류는 \"1종 오류\"와 \"2종 오류\" 중 무엇인지 출력하세요."
   ]
  },
  {
   "cell_type": "code",
   "execution_count": 18,
   "id": "bee49d12",
   "metadata": {},
   "outputs": [
    {
     "name": "stdout",
     "output_type": "stream",
     "text": [
      "1종 오류\n"
     ]
    }
   ],
   "source": [
    "print(\"1종 오류\")"
   ]
  },
  {
   "cell_type": "markdown",
   "id": "ac405b56",
   "metadata": {},
   "source": [
    "## Q10. 재민이는 율도국 국민들이 나이가 들수록 더 많은 소득을 얻을 것이라고 생각하고 있다. 재민이의 주장이 맞으려면 age와 salary를 단순 선형 회귀 분석하였을 때, slope가 양수여야 하며, p-value는 0.05보다 작아야 한다. 이러한 가설을 확인 할 수 있도록 선형 회귀 분석을 하고 이를 summary하는 테이블을 출력하는 코드를 작성하세요."
   ]
  },
  {
   "cell_type": "code",
   "execution_count": 19,
   "outputs": [
    {
     "data": {
      "text/plain": "<class 'statsmodels.iolib.summary.Summary'>\n\"\"\"\n                            OLS Regression Results                            \n==============================================================================\nDep. Variable:                 salary   R-squared:                       0.000\nModel:                            OLS   Adj. R-squared:                 -0.000\nMethod:                 Least Squares   F-statistic:                    0.3536\nDate:                Thu, 12 May 2022   Prob (F-statistic):              0.552\nTime:                        22:45:56   Log-Likelihood:                -69673.\nNo. Observations:               10000   AIC:                         1.394e+05\nDf Residuals:                    9998   BIC:                         1.394e+05\nDf Model:                           1                                         \nCovariance Type:            nonrobust                                         \n==============================================================================\n                 coef    std err          t      P>|t|      [0.025      0.975]\n------------------------------------------------------------------------------\nIntercept    249.7240      9.258     26.973      0.000     231.576     267.872\nage           -0.1534      0.258     -0.595      0.552      -0.659       0.352\n==============================================================================\nOmnibus:                     1184.758   Durbin-Watson:                   1.995\nProb(Omnibus):                  0.000   Jarque-Bera (JB):             1659.560\nSkew:                           0.996   Prob(JB):                         0.00\nKurtosis:                       2.880   Cond. No.                         129.\n==============================================================================\n\nNotes:\n[1] Standard Errors assume that the covariance matrix of the errors is correctly specified.\n\"\"\"",
      "text/html": "<table class=\"simpletable\">\n<caption>OLS Regression Results</caption>\n<tr>\n  <th>Dep. Variable:</th>         <td>salary</td>      <th>  R-squared:         </th> <td>   0.000</td> \n</tr>\n<tr>\n  <th>Model:</th>                   <td>OLS</td>       <th>  Adj. R-squared:    </th> <td>  -0.000</td> \n</tr>\n<tr>\n  <th>Method:</th>             <td>Least Squares</td>  <th>  F-statistic:       </th> <td>  0.3536</td> \n</tr>\n<tr>\n  <th>Date:</th>             <td>Thu, 12 May 2022</td> <th>  Prob (F-statistic):</th>  <td> 0.552</td>  \n</tr>\n<tr>\n  <th>Time:</th>                 <td>22:45:56</td>     <th>  Log-Likelihood:    </th> <td> -69673.</td> \n</tr>\n<tr>\n  <th>No. Observations:</th>      <td> 10000</td>      <th>  AIC:               </th> <td>1.394e+05</td>\n</tr>\n<tr>\n  <th>Df Residuals:</th>          <td>  9998</td>      <th>  BIC:               </th> <td>1.394e+05</td>\n</tr>\n<tr>\n  <th>Df Model:</th>              <td>     1</td>      <th>                     </th>     <td> </td>    \n</tr>\n<tr>\n  <th>Covariance Type:</th>      <td>nonrobust</td>    <th>                     </th>     <td> </td>    \n</tr>\n</table>\n<table class=\"simpletable\">\n<tr>\n      <td></td>         <th>coef</th>     <th>std err</th>      <th>t</th>      <th>P>|t|</th>  <th>[0.025</th>    <th>0.975]</th>  \n</tr>\n<tr>\n  <th>Intercept</th> <td>  249.7240</td> <td>    9.258</td> <td>   26.973</td> <td> 0.000</td> <td>  231.576</td> <td>  267.872</td>\n</tr>\n<tr>\n  <th>age</th>       <td>   -0.1534</td> <td>    0.258</td> <td>   -0.595</td> <td> 0.552</td> <td>   -0.659</td> <td>    0.352</td>\n</tr>\n</table>\n<table class=\"simpletable\">\n<tr>\n  <th>Omnibus:</th>       <td>1184.758</td> <th>  Durbin-Watson:     </th> <td>   1.995</td>\n</tr>\n<tr>\n  <th>Prob(Omnibus):</th>  <td> 0.000</td>  <th>  Jarque-Bera (JB):  </th> <td>1659.560</td>\n</tr>\n<tr>\n  <th>Skew:</th>           <td> 0.996</td>  <th>  Prob(JB):          </th> <td>    0.00</td>\n</tr>\n<tr>\n  <th>Kurtosis:</th>       <td> 2.880</td>  <th>  Cond. No.          </th> <td>    129.</td>\n</tr>\n</table><br/><br/>Notes:<br/>[1] Standard Errors assume that the covariance matrix of the errors is correctly specified."
     },
     "execution_count": 19,
     "metadata": {},
     "output_type": "execute_result"
    }
   ],
   "source": [
    "import statsmodels.api as sm\n",
    "model = sm.OLS.from_formula(\"salary ~ age\", data=df)\n",
    "result = model.fit()\n",
    "result.summary()"
   ],
   "metadata": {
    "collapsed": false,
    "pycharm": {
     "name": "#%%\n"
    }
   }
  },
  {
   "cell_type": "markdown",
   "id": "41129933",
   "metadata": {
    "pycharm": {
     "name": "#%% md\n"
    }
   },
   "source": [
    "## Q11. 재민이는 대전, 서울, 대구, 광주 지역의 Red당의 지지율에 의미 있는 차이가 있다고 생각했다. 이를 확인하기 위해 재민이는 여론조사를 실시하여 크기 1,000개짜리 표본을 추출하였다. 재민이의 가설이 맞는지 ANOVA를 실시하여 확인하는 코드를 작성하세요."
   ]
  },
  {
   "cell_type": "code",
   "execution_count": 28,
   "outputs": [
    {
     "data": {
      "text/plain": "             df      sum_sq   mean_sq        F    PR(>F)\nlocation   16.0   13.794527  0.862158  3.58812  0.000002\nResidual  983.0  236.196473  0.240281      NaN       NaN",
      "text/html": "<div>\n<style scoped>\n    .dataframe tbody tr th:only-of-type {\n        vertical-align: middle;\n    }\n\n    .dataframe tbody tr th {\n        vertical-align: top;\n    }\n\n    .dataframe thead th {\n        text-align: right;\n    }\n</style>\n<table border=\"1\" class=\"dataframe\">\n  <thead>\n    <tr style=\"text-align: right;\">\n      <th></th>\n      <th>df</th>\n      <th>sum_sq</th>\n      <th>mean_sq</th>\n      <th>F</th>\n      <th>PR(&gt;F)</th>\n    </tr>\n  </thead>\n  <tbody>\n    <tr>\n      <th>location</th>\n      <td>16.0</td>\n      <td>13.794527</td>\n      <td>0.862158</td>\n      <td>3.58812</td>\n      <td>0.000002</td>\n    </tr>\n    <tr>\n      <th>Residual</th>\n      <td>983.0</td>\n      <td>236.196473</td>\n      <td>0.240281</td>\n      <td>NaN</td>\n      <td>NaN</td>\n    </tr>\n  </tbody>\n</table>\n</div>"
     },
     "execution_count": 28,
     "metadata": {},
     "output_type": "execute_result"
    }
   ],
   "source": [
    "df['party_int'] = df['party'].apply(lambda x: 1 if x == \"Blue\" else 0)\n",
    "df1000 = df.sample(1000)\n",
    "from statsmodels.formula.api import ols\n",
    "model = ols('party_int ~ location', data=df1000).fit()\n",
    "anova_table = sm.stats.anova_lm(model, type=2)\n",
    "anova_table"
   ],
   "metadata": {
    "collapsed": false,
    "pycharm": {
     "name": "#%%\n"
    }
   }
  },
  {
   "cell_type": "code",
   "execution_count": 29,
   "outputs": [
    {
     "name": "stdout",
     "output_type": "stream",
     "text": [
      "Multiple Comparison of Means - Tukey HSD, FWER=0.05 \n",
      "====================================================\n",
      "group1 group2 meandiff p-adj   lower   upper  reject\n",
      "----------------------------------------------------\n",
      "    강원     경기   0.0225    1.0 -0.2488  0.2938  False\n",
      "    강원     경남  -0.0264    1.0 -0.3615  0.3087  False\n",
      "    강원     경북   0.0362    1.0 -0.2818  0.3542  False\n",
      "    강원     광주   0.1117 0.9987 -0.2063  0.4297  False\n",
      "    강원     대구   0.1331 0.9918 -0.1882  0.4545  False\n",
      "    강원     대전   0.4719    0.0  0.1555  0.7883   True\n",
      "    강원     부산  -0.0224    1.0 -0.3532  0.3083  False\n",
      "    강원     서울   0.0237    1.0 -0.2521  0.2995  False\n",
      "    강원     세종  -0.0069    1.0  -0.311  0.2972  False\n",
      "    강원     울산  -0.0641    1.0 -0.4234  0.2953  False\n",
      "    강원     인천   0.1277 0.9801 -0.1548  0.4102  False\n",
      "    강원     전남   0.0645    1.0 -0.2705  0.3996  False\n",
      "    강원     전북   0.0113    1.0 -0.3174  0.3401  False\n",
      "    강원     제주   0.1756 0.8845 -0.1408   0.492  False\n",
      "    강원     충남  -0.0718    1.0 -0.3867   0.243  False\n",
      "    강원     충북   0.0326    1.0 -0.2961  0.3613  False\n",
      "    경기     경남  -0.0489    1.0 -0.3533  0.2556  False\n",
      "    경기     경북   0.0138    1.0 -0.2718  0.2993  False\n",
      "    경기     광주   0.0892 0.9997 -0.1963  0.3747  False\n",
      "    경기     대구   0.1107 0.9966 -0.1785  0.3999  False\n",
      "    경기     대전   0.4495    0.0  0.1657  0.7332   True\n",
      "    경기     부산  -0.0449    1.0 -0.3446  0.2548  False\n",
      "    경기     서울   0.0012    1.0 -0.2364  0.2389  False\n",
      "    경기     세종  -0.0294    1.0 -0.2993  0.2406  False\n",
      "    경기     울산  -0.0865    1.0 -0.4175  0.2445  False\n",
      "    경기     인천   0.1053 0.9882 -0.1401  0.3507  False\n",
      "    경기     전남   0.0421    1.0 -0.2624  0.3465  False\n",
      "    경기     전북  -0.0111    1.0 -0.3086  0.2863  False\n",
      "    경기     제주   0.1532 0.9063 -0.1306  0.4369  False\n",
      "    경기     충남  -0.0943 0.9993 -0.3763  0.1877  False\n",
      "    경기     충북   0.0101    1.0 -0.2873  0.3076  False\n",
      "    경남     경북   0.0626    1.0 -0.2841  0.4093  False\n",
      "    경남     광주   0.1381 0.9946 -0.2086  0.4847  False\n",
      "    경남     대구   0.1595 0.9783 -0.1902  0.5093  False\n",
      "    경남     대전   0.4983 0.0001  0.1531  0.8435   True\n",
      "    경남     부산    0.004    1.0 -0.3545  0.3624  False\n",
      "    경남     서울   0.0501    1.0 -0.2584  0.3586  False\n",
      "    경남     세종   0.0195    1.0 -0.3145  0.3534  False\n",
      "    경남     울산  -0.0377    1.0 -0.4227  0.3473  False\n",
      "    경남     인천   0.1541 0.9578 -0.1603  0.4686  False\n",
      "    경남     전남   0.0909    1.0 -0.2715  0.4533  False\n",
      "    경남     전북   0.0377    1.0 -0.3188  0.3943  False\n",
      "    경남     제주    0.202 0.8329 -0.1432  0.5472  False\n",
      "    경남     충남  -0.0455    1.0 -0.3893  0.2983  False\n",
      "    경남     충북    0.059    1.0 -0.2976  0.4156  False\n",
      "    경북     광주   0.0755    1.0 -0.2547  0.4057  False\n",
      "    경북     대구   0.0969 0.9999 -0.2365  0.4303  False\n",
      "    경북     대전   0.4357 0.0006   0.107  0.7644   True\n",
      "    경북     부산  -0.0587    1.0 -0.4012  0.2839  False\n",
      "    경북     서울  -0.0125    1.0 -0.3023  0.2773  False\n",
      "    경북     세종  -0.0431    1.0 -0.3599  0.2737  False\n",
      "    경북     울산  -0.1003    1.0 -0.4705    0.27  False\n",
      "    경북     인천   0.0915 0.9997 -0.2047  0.3877  False\n",
      "    경북     전남   0.0283    1.0 -0.3184   0.375  False\n",
      "    경북     전북  -0.0249    1.0 -0.3655  0.3157  False\n",
      "    경북     제주   0.1394 0.9895 -0.1893  0.4681  False\n",
      "    경북     충남  -0.1081 0.9994 -0.4352  0.2191  False\n",
      "    경북     충북  -0.0036    1.0 -0.3442   0.337  False\n",
      "    광주     대구   0.0215    1.0  -0.312  0.3549  False\n",
      "    광주     대전   0.3602 0.0161  0.0316  0.6889   True\n",
      "    광주     부산  -0.1341 0.9955 -0.4767  0.2084  False\n",
      "    광주     서울   -0.088 0.9998 -0.3778  0.2018  False\n",
      "    광주     세종  -0.1186 0.9973 -0.4354  0.1982  False\n",
      "    광주     울산  -0.1757 0.9684  -0.546  0.1945  False\n",
      "    광주     인천    0.016    1.0 -0.2801  0.3122  False\n",
      "    광주     전남  -0.0472    1.0 -0.3938  0.2995  False\n",
      "    광주     전북  -0.1004 0.9999 -0.4409  0.2402  False\n",
      "    광주     제주   0.0639    1.0 -0.2647  0.3926  False\n",
      "    광주     충남  -0.1835 0.8753 -0.5107  0.1436  False\n",
      "    광주     충북  -0.0791    1.0 -0.4197  0.2615  False\n",
      "    대구     대전   0.3388 0.0397  0.0069  0.6707   True\n",
      "    대구     부산  -0.1556 0.9809 -0.5012    0.19  False\n",
      "    대구     서울  -0.1094 0.9974 -0.4029   0.184  False\n",
      "    대구     세종  -0.1401 0.9856 -0.4602  0.1801  False\n",
      "    대구     울산  -0.1972 0.9206 -0.5703  0.1759  False\n",
      "    대구     인천  -0.0054    1.0 -0.3052  0.2944  False\n",
      "    대구     전남  -0.0686    1.0 -0.4184  0.2811  False\n",
      "    대구     전북  -0.1218 0.9986 -0.4655  0.2219  False\n",
      "    대구     제주   0.0425    1.0 -0.2894  0.3744  False\n",
      "    대구     충남   -0.205 0.7594 -0.5354  0.1254  False\n",
      "    대구     충북  -0.1005 0.9999 -0.4442  0.2432  False\n",
      "    대전     부산  -0.4944 0.0001 -0.8354 -0.1533   True\n",
      "    대전     서울  -0.4482    0.0 -0.7363 -0.1601   True\n",
      "    대전     세종  -0.4788    0.0 -0.7941 -0.1636   True\n",
      "    대전     울산   -0.536 0.0001 -0.9048 -0.1671   True\n",
      "    대전     인천  -0.3442 0.0062 -0.6387 -0.0497   True\n",
      "    대전     전남  -0.4074 0.0053 -0.7526 -0.0622   True\n",
      "    대전     전북  -0.4606 0.0004 -0.7997 -0.1215   True\n",
      "    대전     제주  -0.2963 0.1301 -0.6234  0.0308  False\n",
      "    대전     충남  -0.5438    0.0 -0.8694 -0.2181   True\n",
      "    대전     충북  -0.4393  0.001 -0.7784 -0.1002   True\n",
      "    부산     서울   0.0461    1.0 -0.2577  0.3499  False\n",
      "    부산     세종   0.0155    1.0 -0.3141  0.3452  False\n",
      "    부산     울산  -0.0416    1.0 -0.4229  0.3396  False\n",
      "    부산     인천   0.1502 0.9619 -0.1597    0.46  False\n",
      "    부산     전남    0.087    1.0 -0.2715  0.4454  False\n",
      "    부산     전북   0.0338    1.0 -0.3188  0.3863  False\n",
      "    부산     제주   0.1981 0.8413  -0.143  0.5391  False\n",
      "    부산     충남  -0.0494    1.0  -0.389  0.2902  False\n",
      "    부산     충북    0.055    1.0 -0.2975  0.4076  False\n",
      "    서울     세종  -0.0306    1.0 -0.3051  0.2439  False\n",
      "    서울     울산  -0.0878    1.0 -0.4225   0.247  False\n",
      "    서울     인천    0.104 0.9915 -0.1463  0.3544  False\n",
      "    서울     전남   0.0408    1.0 -0.2676  0.3493  False\n",
      "    서울     전북  -0.0124    1.0  -0.314  0.2892  False\n",
      "    서울     제주   0.1519 0.9219 -0.1361    0.44  False\n",
      "    서울     충남  -0.0955 0.9993 -0.3819  0.1908  False\n",
      "    서울     충북   0.0089    1.0 -0.2927  0.3105  False\n",
      "    세종     울산  -0.0571    1.0 -0.4155  0.3012  False\n",
      "    세종     인천   0.1346 0.9658 -0.1465  0.4158  False\n",
      "    세종     전남   0.0714    1.0 -0.2625  0.4054  False\n",
      "    세종     전북   0.0182    1.0 -0.3094  0.3459  False\n",
      "    세종     제주   0.1825 0.8443 -0.1327  0.4978  False\n",
      "    세종     충남  -0.0649    1.0 -0.3786  0.2487  False\n",
      "    세종     충북   0.0395    1.0 -0.2881  0.3671  False\n",
      "    울산     인천   0.1918 0.8709 -0.1484   0.532  False\n",
      "    울산     전남   0.1286 0.9993 -0.2564  0.5136  False\n",
      "    울산     전북   0.0754    1.0 -0.3041  0.4549  False\n",
      "    울산     제주   0.2397 0.6889 -0.1292  0.6085  False\n",
      "    울산     충남  -0.0078    1.0 -0.3753  0.3597  False\n",
      "    울산     충북   0.0967    1.0 -0.2828  0.4762  False\n",
      "    인천     전남  -0.0632    1.0 -0.3777  0.2512  False\n",
      "    인천     전북  -0.1164  0.997 -0.4241  0.1913  False\n",
      "    인천     제주   0.0479    1.0 -0.2466  0.3424  False\n",
      "    인천     충남  -0.1996 0.6068 -0.4924  0.0932  False\n",
      "    인천     충북  -0.0951 0.9997 -0.4028  0.2126  False\n",
      "    전남     전북  -0.0532    1.0 -0.4098  0.3034  False\n",
      "    전남     제주   0.1111 0.9996 -0.2341  0.4563  False\n",
      "    전남     충남  -0.1364 0.9949 -0.4802  0.2074  False\n",
      "    전남     충북  -0.0319    1.0 -0.3885  0.3247  False\n",
      "    전북     제주   0.1643 0.9619 -0.1748  0.5034  False\n",
      "    전북     충남  -0.0832    1.0 -0.4208  0.2545  False\n",
      "    전북     충북   0.0213    1.0 -0.3294  0.3719  False\n",
      "    제주     충남  -0.2475  0.402 -0.5731  0.0782  False\n",
      "    제주     충북   -0.143 0.9901 -0.4821  0.1961  False\n",
      "    충남     충북   0.1044 0.9997 -0.2332  0.4421  False\n",
      "----------------------------------------------------\n"
     ]
    }
   ],
   "source": [
    "from statsmodels.stats.multicomp import pairwise_tukeyhsd\n",
    "posthoc = pairwise_tukeyhsd(df1000['party_int'], df1000['location'], alpha=0.05)\n",
    "print(posthoc)"
   ],
   "metadata": {
    "collapsed": false,
    "pycharm": {
     "name": "#%%\n"
    }
   }
  },
  {
   "cell_type": "code",
   "execution_count": null,
   "outputs": [],
   "source": [],
   "metadata": {
    "collapsed": false,
    "pycharm": {
     "name": "#%%\n"
    }
   }
  }
 ],
 "metadata": {
  "kernelspec": {
   "display_name": "Python 3 (ipykernel)",
   "language": "python",
   "name": "python3"
  },
  "language_info": {
   "codemirror_mode": {
    "name": "ipython",
    "version": 3
   },
   "file_extension": ".py",
   "mimetype": "text/x-python",
   "name": "python",
   "nbconvert_exporter": "python",
   "pygments_lexer": "ipython3",
   "version": "3.7.11"
  }
 },
 "nbformat": 4,
 "nbformat_minor": 5
}